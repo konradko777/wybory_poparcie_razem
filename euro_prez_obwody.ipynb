{
 "cells": [
  {
   "cell_type": "markdown",
   "id": "99a8acac",
   "metadata": {},
   "source": [
    "# W wyborach prezydenckich jest więcej komisji (~ 10)\n",
    "# sparowac komisje obwodowe (nie powinno być większego problemu)\n",
    "# zastanwowić się jak obliczać wskaźnik dla niesparowanych (ustalać wagę 1 niezaleźnie od \\alpha)"
   ]
  }
 ],
 "metadata": {
  "language_info": {
   "name": "python"
  }
 },
 "nbformat": 4,
 "nbformat_minor": 5
}
